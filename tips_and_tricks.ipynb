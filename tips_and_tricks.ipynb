{
 "cells": [
  {
   "cell_type": "markdown",
   "metadata": {},
   "source": [
    "## Setup to follow along:\n",
    "\n",
    "1. Create a virtual environment with the command `python -m venv .venv`\n",
    "2. Activate the environment in VS Code and/or your terminal (cmd: `.venv\\Scrips\\activate` or PowerShell: `.\\.venv\\Scripts\\Activate.ps1`)\n",
    "3. Open up this ipynb, and try to run 1 cell. VS Code will prompt you to install the required Jupyter dependencies. \n",
    "4. Select a cell, and run it with `Ctrl-Enter`. If you want to debug, run your cell with `Shift-Ctrl-Enter`.\n",
    "5. When you now open up a *.ipynb (**I**nteractive **Py**thon **N**ote**B**ook), you are good to go!"
   ]
  },
  {
   "cell_type": "markdown",
   "metadata": {},
   "source": [
    "# Some tips and tricks in Python that will come in handy with AoC"
   ]
  },
  {
   "cell_type": "markdown",
   "metadata": {},
   "source": [
    "### Some basics about lists, dicts and their properties."
   ]
  },
  {
   "cell_type": "code",
   "execution_count": 12,
   "metadata": {},
   "outputs": [
    {
     "name": "stdout",
     "output_type": "stream",
     "text": [
      "1\n",
      "4\n",
      "[1, 2, 3, 4, 5, 6]\n",
      "{'a': 1, 'b': 2, 'c': 3, 'd': 4, 'e': 5, 'f': 6}\n",
      "104\n",
      "80\n",
      "[1, 2, 3, 4, 5, 5, 5, 5]\n",
      "{1, 2, 3, 4, 5}\n"
     ]
    }
   ],
   "source": [
    "# Lists are ordered, indexed, mutable containers of elements. Dictionaries are unordered, mutable containers of key-value pairs.\n",
    "my_list = [1, 2, 3, 4, 5]\n",
    "my_dictionary = {'a': 1, 'b': 2, 'c': 3, 'd': 4, 'e': 5}\n",
    "\n",
    "# To get elements, lists use the index of the element, dictionaries use the key of the element.\n",
    "print(my_list[0])  # 1\n",
    "print(my_dictionary['d'])  # 4\n",
    "\n",
    "# To add elements, lists use the append() method, dictionaries use the key of the element.\n",
    "my_list.append(6)\n",
    "print(my_list)  # [1, 2, 3, 4, 5, 6]\n",
    "my_dictionary['f'] = 6\n",
    "print(my_dictionary)  # {'a': 1, 'b': 2, 'c': 3, 'd': 4, 'e': 5, 'f': 6}\n",
    "\n",
    "# Tuples are ordered, indexed, immutable containers of elements. Sets are unordered, mutable containers of unique elements.\n",
    "my_tuple = (1, 2, 3, 4, 5)\n",
    "my_set = {1, 2, 3, 4, 5}\n",
    "\n",
    "# Tuples are handy because they are memory efficient. See for your self:\n",
    "import sys\n",
    "print(sys.getsizeof(my_list))  # 104\n",
    "print(sys.getsizeof(my_tuple))  # 88\n",
    "\n",
    "# Sets are handy because they are unique. See for yourself:\n",
    "some_list = [1, 2, 3, 4, 5, 5, 5, 5]\n",
    "my_set = {1, 2, 3, 4, 5, 5, 5, 5}\n",
    "print(some_list)  # [1, 2, 3, 4, 5, 5, 5, 5]\n",
    "print(my_set)  # {1, 2, 3, 4, 5}\n",
    "\n"
   ]
  },
  {
   "cell_type": "code",
   "execution_count": 13,
   "metadata": {},
   "outputs": [
    {
     "name": "stdout",
     "output_type": "stream",
     "text": [
      "[('a', 1), ('b', 2), ('c', 3)]\n",
      "a 1\n",
      "b 2\n",
      "c 3\n",
      "a 1\n",
      "b 2\n",
      "c 3\n",
      "('a', 'b', 'c')\n",
      "(1, 2, 3)\n",
      "{'a': 1, 'b': 2, 'c': 3}\n"
     ]
    }
   ],
   "source": [
    "# Use zip() to combine elements from multiple iterables into tuples.\n",
    "keys = ['a', 'b', 'c']\n",
    "values = [1, 2, 3]\n",
    "zipped = zip(keys, values)\n",
    "print(list(zipped))  # [('a', 1), ('b', 2), ('c', 3)]\n",
    "\n",
    "# Note that we had to put the zipped variable in a list, as zip() returns an iterator (lazy but memroy efficient).\n",
    "\n",
    "# You often see zip() used in a for loop, if you want to iterate over multiple iterables at the same time.\n",
    "for k, v in zip(keys, values):\n",
    "    print(k, v)  # a 1, b 2, c 3\n",
    "\n",
    "# Alternative is using enumerate() to get the index and value of an iterable.\n",
    "for index, value in enumerate(values):\n",
    "    print(keys[index], value)  # a 1, b 2, c 3\n",
    "    \n",
    "# Zip can also be used to unzip a list of tuples.\n",
    "zipped = [('a', 1), ('b', 2), ('c', 3)]\n",
    "keys, values = zip(*zipped)\n",
    "print(keys)  # ('a', 'b', 'c')\n",
    "print(values)  # (1, 2, 3)\n",
    "\n",
    "# Zip can also be used to create a dictionary from two lists.\n",
    "keys = ['a', 'b', 'c']\n",
    "values = [1, 2, 3]\n",
    "my_dictionary = dict(zip(keys, values))\n",
    "print(my_dictionary)  # {'a': 1, 'b': 2, 'c': 3}\n"
   ]
  },
  {
   "cell_type": "markdown",
   "metadata": {},
   "source": [
    "### List, dictionary and generator comprehensions"
   ]
  },
  {
   "cell_type": "code",
   "execution_count": 14,
   "metadata": {},
   "outputs": [
    {
     "name": "stdout",
     "output_type": "stream",
     "text": [
      "[0, 1, 2, 3, 4, 5, 6, 7, 8, 9]\n",
      "{0: 1, 1: 2, 2: 3, 3: 4, 4: 5, 5: 6, 6: 7, 7: 8, 8: 9, 9: 10}\n",
      "[0, 2, 4, 6, 8]\n",
      "<generator object <genexpr> at 0x105afa8e0>\n",
      "[0, 2, 4, 6, 8]\n"
     ]
    }
   ],
   "source": [
    "# List and dictionary comprehensions are a handy way to create lists and dictionaries in a for loop.\n",
    "# They allow you to create lists or dictionaries in a single line of code. Lists comprehensions use square brackets, \n",
    "# while dictionaries comprehensions use curly brackets.\n",
    "\n",
    "my_list = [i for i in range(10)]\n",
    "print(my_list)  # [0, 1, 2, 3, 4, 5, 6, 7, 8, 9]\n",
    "\n",
    "# For dictionary comprehensions, you need to specify the key and value with a : in between.\n",
    "my_dictionary = {i: i+1 for i in range(10)}\n",
    "print(my_dictionary)  # {0: 1, 1: 2, 2: 3, 3: 4, 4: 5, 5: 6, 6: 7, 7: 8, 8: 9, 9: 10}\n",
    "\n",
    "# You can also add conditions to list and dictionary comprehensions.\n",
    "my_list = [i for i in range(10) if i % 2 == 0]\n",
    "print(my_list)  # [0, 2, 4, 6, 8]\n",
    "\n",
    "# The variable my_list is fully loaded in memory. If you want to save memory, you can use a generator expression.\n",
    "# A generator expression is similar to a list comprehension, but it returns an iterator instead of a list.\n",
    "# That means that the elements are not loaded in memory until you need them.\n",
    "my_generator = (i for i in range(10) if i % 2 == 0)\n",
    "print(my_generator)  # <generator object <genexpr> at 0x7f8f4c1d5f50>\n",
    "my_list = list(my_generator)\n",
    "print(my_list)  # [0, 2, 4, 6, 8]\n",
    "\n"
   ]
  },
  {
   "cell_type": "markdown",
   "metadata": {},
   "source": [
    "### Regex in Python with the `re` module"
   ]
  },
  {
   "cell_type": "code",
   "execution_count": 15,
   "metadata": {},
   "outputs": [
    {
     "name": "stdout",
     "output_type": "stream",
     "text": [
      "['1234', '56']\n",
      "<re.Match object; span=(22, 26), match='1234'>\n",
      "This is a string with number numbers in number different places.\n",
      "<re.Match object; span=(22, 26), match='1234'>\n",
      "<re.Match object; span=(38, 40), match='56'>\n"
     ]
    }
   ],
   "source": [
    "# If you have a problem and you need to solve it with regex, you actually have two problems. \n",
    "# However, if you really need to use regex, you can use the re module that is built into Python.\n",
    "\n",
    "# Let's say you want to extract the numbers from a string.\n",
    "import re\n",
    "\n",
    "my_string = 'This is a string with 1234 numbers in 56 different places.'\n",
    "\n",
    "# 10/10 I would recomment to use r-string notation for regex. This way you don't have to escape the backslash.\n",
    "# The r in r-string stands for..... raw string. Not regex, lol.\n",
    "\n",
    "# There are a few basic ways to use re-functions. The first one is findall().\n",
    "# findall() returns a list of all parts of the string that match the regex.\n",
    "numbers = re.findall(r'\\d+', my_string)\n",
    "print(numbers)  # ['1234', '56']\n",
    "\n",
    "# The second one is search(). search() returns a match object if the regex matches the string, otherwise it returns None.\n",
    "match = re.search(r'\\d+', my_string)\n",
    "print(match)  # <re.Match object; span=(22, 26), match='1234'>\n",
    "\n",
    "# You can also use sub() to replace parts of the string that match the regex.\n",
    "new_string = re.sub(r'\\d+', 'number', my_string)\n",
    "print(new_string)  # This is a string with number numbers in number different places.\n",
    "\n",
    "# Another important fucntion is finditer(). finditer() returns an iterator of match objects.\n",
    "matches = re.finditer(r'\\d+', my_string)\n",
    "for m in matches:\n",
    "    print(m)  # <re.Match object; span=(22, 26), match='1234'>, <re.Match object; span=(44, 46), match='56'>\n",
    "# Note that you can use the span of the match object to get the start and end index of the match! \n"
   ]
  },
  {
   "cell_type": "markdown",
   "metadata": {},
   "source": [
    "### Sets and their properties"
   ]
  },
  {
   "cell_type": "code",
   "execution_count": 16,
   "metadata": {},
   "outputs": [
    {
     "name": "stdout",
     "output_type": "stream",
     "text": [
      "My list:  [1, 2, 3, 3, 4, 5, 5, 5, 6]\n",
      "My set:  {1, 2, 3, 4, 5, 6}\n",
      "3 is in the set\n",
      "My second set:  {1, 2, 'b', 'a'}\n",
      "Union:  {1, 2, 3, 4, 5, 6, 'b', 'a'}\n",
      "Intersection:  {1, 2}\n",
      "Difference:  {3, 4, 5, 6}\n",
      "Symmetric difference:  {3, 4, 5, 6, 'b', 'a'}\n"
     ]
    }
   ],
   "source": [
    "# Sets are unordered collections of unique elements. They are useful for removing duplicates from a list. \n",
    "# They are also useful for checking if an element is in a collection (O(1) time complexity)\n",
    "\n",
    "my_list = [1, 2, 3, 3, 4, 5, 5, 5, 6]\n",
    "print(\"My list: \", my_list)\n",
    "\n",
    "# Sets are unordered! Any order is possible when printing\n",
    "my_set = set(my_list)\n",
    "print(\"My set: \", my_set)\n",
    "\n",
    "\n",
    "# Sets are useful for checking if an element is in a collection\n",
    "if 3 in my_set:\n",
    "    print(\"3 is in the set\")\n",
    "\n",
    "# You can create  unions of sets (all unique items from two sets) using the `|` operator\n",
    "my_second_set = {1, 2, 'a', 'b'}\n",
    "print(\"My second set: \", my_second_set)\n",
    "print(\"Union: \", my_set | my_second_set)\n",
    "\n",
    "# You can create intersections of sets (all items that are in both sets) using the `&` operator\n",
    "print(\"Intersection: \", my_set & my_second_set)\n",
    "\n",
    "# You can create differences of sets (all items that are in the first set, but not in the second) using the `-` operator\n",
    "print(\"Difference: \", my_set - my_second_set)\n",
    "\n",
    "# You can create symmetric differences of sets (all items that are in either set, but not in both) using the `^` operator\n",
    "print(\"Symmetric difference: \", my_set ^ my_second_set)\n",
    "\n",
    "# Conclusion: sets() are cool!"
   ]
  },
  {
   "cell_type": "markdown",
   "metadata": {},
   "source": [
    "### Using the `collections` module, it's your friend!"
   ]
  },
  {
   "cell_type": "code",
   "execution_count": 17,
   "metadata": {},
   "outputs": [
    {
     "name": "stdout",
     "output_type": "stream",
     "text": [
      "Counter Counter({'A': 3, 'B': 2, 'C': 1})\n",
      "Default dict defaultdict(<function <lambda> at 0x105fe9ee0>, {'A': 3, 'B': 2, 'C': 1})\n"
     ]
    }
   ],
   "source": [
    "# Use Counter() when counting occurences of items in an iterable (list, string, etc.)\n",
    "from collections import Counter\n",
    "\n",
    "s = 'AAABBC'\n",
    "c = Counter(s)\n",
    "print(\"Counter\", c)\n",
    "\n",
    "# Use defaultdict() when you want to create a dictionary with a default value for non-existing keys\n",
    "# The function that you provide must take 0 parameters and return a value. Use `lambda: <default_value>` to create such a function.\n",
    "from collections import defaultdict\n",
    "\n",
    "d = defaultdict(lambda: 0)\n",
    "for c in s:\n",
    "    d[c] += 1\n",
    "print(\"Default dict\", d)\n",
    "\n"
   ]
  },
  {
   "cell_type": "code",
   "execution_count": 18,
   "metadata": {},
   "outputs": [
    {
     "name": "stdout",
     "output_type": "stream",
     "text": [
      "Current list:  [3]\n",
      "Processing item value: 3\n",
      "Intermediate result:  3\n",
      " \n",
      "Current list:  [0, 1, 2]\n",
      "Processing item value: 0\n",
      "Intermediate result:  3\n",
      " \n",
      "Current list:  [1, 2]\n",
      "Processing item value: 1\n",
      "Intermediate result:  4\n",
      " \n",
      "Current list:  [2, 0]\n",
      "Processing item value: 2\n",
      "Intermediate result:  6\n",
      " \n",
      "Current list:  [0, 0, 1]\n",
      "Processing item value: 0\n",
      "Intermediate result:  6\n",
      " \n",
      "Current list:  [0, 1]\n",
      "Processing item value: 0\n",
      "Intermediate result:  6\n",
      " \n",
      "Current list:  [1]\n",
      "Processing item value: 1\n",
      "Intermediate result:  7\n",
      " \n",
      "Current list:  [0]\n",
      "Processing item value: 0\n",
      "Intermediate result:  7\n",
      " \n",
      "Final result:  7\n"
     ]
    }
   ],
   "source": [
    "# Lists are handy for storing ordered collections of items. They are mutable, which means that you can change them after creation.\n",
    "# You can also get items by index in O(1) time complexity.\n",
    "\n",
    "# Lists can be slow though, especially when used as stacks. (Stacks are collections where you can only add/remove items at the end). \n",
    "# When you find yourself in a situation where you implement a stack, try using collections.deque (double ended queue) instead. \n",
    "# It is much faster for stacks and queues.\n",
    "\n",
    "# Example: we want to process all numbers between 0 and N, recursively, and add them.\n",
    "result = 0\n",
    "my_list = [3]\n",
    "while my_list:\n",
    "    print(\"Current list: \", my_list)\n",
    "    item = my_list.pop(0)  # take first item of list and remove it.\n",
    "    print(f\"Processing item value: {item}\")\n",
    "    result += item\n",
    "    print(\"Intermediate result: \", result)\n",
    "    for i in range(item):\n",
    "        my_list.append(i) # add item 0 upto (exclusive) N to the end of the list\n",
    "    print(\" \")\n",
    "print(\"Final result: \", result)"
   ]
  },
  {
   "cell_type": "code",
   "execution_count": 19,
   "metadata": {},
   "outputs": [
    {
     "name": "stdout",
     "output_type": "stream",
     "text": [
      "Current list:  deque([3])\n",
      "Processing item value: 3\n",
      "Intermediate result:  3\n",
      " \n",
      "Current list:  deque([0, 1, 2])\n",
      "Processing item value: 0\n",
      "Intermediate result:  3\n",
      " \n",
      "Current list:  deque([1, 2])\n",
      "Processing item value: 1\n",
      "Intermediate result:  4\n",
      " \n",
      "Current list:  deque([2, 0])\n",
      "Processing item value: 2\n",
      "Intermediate result:  6\n",
      " \n",
      "Current list:  deque([0, 0, 1])\n",
      "Processing item value: 0\n",
      "Intermediate result:  6\n",
      " \n",
      "Current list:  deque([0, 1])\n",
      "Processing item value: 0\n",
      "Intermediate result:  6\n",
      " \n",
      "Current list:  deque([1])\n",
      "Processing item value: 1\n",
      "Intermediate result:  7\n",
      " \n",
      "Current list:  deque([0])\n",
      "Processing item value: 0\n",
      "Intermediate result:  7\n",
      " \n",
      "Final result:  7\n"
     ]
    }
   ],
   "source": [
    "# Doing the same with a double ended queue (deque)\n",
    "# Remember, deque is a double ended queue. You can add/remove items at the start and end of the queue.\n",
    "# So rather than using pop(0) to take the first item, we use popleft() to take the first item.\n",
    "\n",
    "from collections import deque\n",
    "result = 0\n",
    "my_deque = deque([3])\n",
    "while my_deque:\n",
    "    print(\"Current list: \", my_deque)\n",
    "    item = my_deque.popleft() # take first item of list and remove it using popleft()\n",
    "    print(f\"Processing item value: {item}\")\n",
    "    result += item\n",
    "    print(\"Intermediate result: \", result)\n",
    "    for i in range(item):\n",
    "        my_deque.append(i) # add item 0 upto (exclusive) N to the end of the list\n",
    "    print(\" \")\n",
    "print(\"Final result: \", result)"
   ]
  },
  {
   "cell_type": "code",
   "execution_count": 20,
   "metadata": {},
   "outputs": [],
   "source": [
    "# Although they look pretty similar, the deque version is much faster. We can time it!\n",
    "\n",
    "from collections import deque\n",
    "def using_list(start_int):\n",
    "    result = 0\n",
    "    my_list = [3]\n",
    "    while my_list:\n",
    "        item = my_list.pop(0) # take first item of list and remove it.\n",
    "        result += item\n",
    "        for i in range(item):\n",
    "            my_list.append(i) # add item 0 upto (exclusive) N to the end of the list\n",
    "    return result\n",
    "\n",
    "def using_deque(start_int):\n",
    "    result = 0\n",
    "    my_deque = deque([3])\n",
    "    while my_deque:\n",
    "        item = my_deque.popleft() # take first item of list and remove it using popleft()\n",
    "        result += item\n",
    "        for i in range(item):\n",
    "            my_deque.append(i) # add item 0 upto (exclusive) N to the end of the list\n",
    "    return result\n"
   ]
  },
  {
   "cell_type": "code",
   "execution_count": 21,
   "metadata": {},
   "outputs": [
    {
     "name": "stdout",
     "output_type": "stream",
     "text": [
      "Using a list a 10.000 times (small int):  0.011508415977004915\n",
      "Using a deque a 10.000 times (small int):  0.010770542023237795\n"
     ]
    }
   ],
   "source": [
    "\n",
    "import timeit\n",
    "from functools import partial\n",
    "print(\"Using a list a 10.000 times (small int): \", timeit.timeit(partial(using_list, 3), number=10000))\n",
    "print(\"Using a deque a 10.000 times (small int): \", timeit.timeit(partial(using_deque, 3), number=10000))\n",
    "\n",
    "# Results:\n",
    "# Using a list a 10.000 times (small int):  0.071946800002479\n",
    "# Using a deque a 10.000 times (small int):  0.055354099997202866"
   ]
  },
  {
   "cell_type": "code",
   "execution_count": 22,
   "metadata": {},
   "outputs": [
    {
     "name": "stdout",
     "output_type": "stream",
     "text": [
      "Using a list a 10.000 times (larger int):  0.012248541985172778\n",
      "Using a deque a 10.000 times (larger int):  0.011039124976377934\n"
     ]
    }
   ],
   "source": [
    "\n",
    "print(\"Using a list a 10.000 times (larger int): \", timeit.timeit(partial(using_list, 10), number=10000))\n",
    "print(\"Using a deque a 10.000 times (larger int): \", timeit.timeit(partial(using_deque, 10), number=10000))\n",
    "\n",
    "# Results:\n",
    "# Using a list a 10.000 times (larger int):  0.1034739000024274\n",
    "# Using a deque a 10.000 times (larger int):  0.05009819999395404\n",
    "\n",
    "# That is already twice as fast! And the larger the numbers, the bigger the difference."
   ]
  },
  {
   "cell_type": "code",
   "execution_count": 23,
   "metadata": {},
   "outputs": [
    {
     "name": "stdout",
     "output_type": "stream",
     "text": [
      "Using a list a 10.000 times (even larger int):  0.011865375039633363\n",
      "Using a deque a 10.000 times (even larger int):  0.010900666995439678\n"
     ]
    }
   ],
   "source": [
    "print(\"Using a list a 10.000 times (even larger int): \", timeit.timeit(partial(using_list, 100), number=10000))\n",
    "print(\"Using a deque a 10.000 times (even larger int): \", timeit.timeit(partial(using_deque, 100), number=10000))\n",
    "\n",
    "# Results:\n",
    "# Using a list a 10.000 times (even larger int):  0.1361823000042932\n",
    "# Using a deque a 10.000 times (even larger int):  0.05713070000638254"
   ]
  },
  {
   "cell_type": "markdown",
   "metadata": {},
   "source": [
    "### Module `itertools` provide efficient tools for iterating!"
   ]
  },
  {
   "cell_type": "code",
   "execution_count": 24,
   "metadata": {},
   "outputs": [
    {
     "name": "stdout",
     "output_type": "stream",
     "text": [
      "1\n",
      "2\n",
      "3\n",
      "1\n",
      "2\n",
      "3\n",
      "A\n",
      "K\n",
      "Q\n",
      "J\n",
      "10\n",
      "9\n",
      "8\n",
      "1 [1, 1, 1]\n",
      "2 [2, 2]\n",
      "3 [3, 3, 3, 3]\n",
      "a 1\n",
      "b 2\n",
      "c 0\n"
     ]
    }
   ],
   "source": [
    "# Itertools are, as the name suggests, tools for iterating over iterables.\n",
    "# Someimes, you need a endless loop. Often, you see a while True loop for this, like so:\n",
    "i = 0\n",
    "while True:\n",
    "    i += 1\n",
    "    if i > 3:\n",
    "        break\n",
    "    print(i) # 1, 2, 3\n",
    "\n",
    "# You can also use itertools.count() for this. It returns an iterator that counts up from a given number.\n",
    "from itertools import count\n",
    "for i in count(1): # count(1) starts counting from 1\n",
    "    if i > 3:\n",
    "        break\n",
    "    print(i) # 1, 2, 3\n",
    "\n",
    "# At times you need to cycle through a list, and repeat that cycle endlessly. For example, \n",
    "# you want to you need to play a 10000 cards in a game, and the stack of cards repeats itself.\n",
    "\n",
    "# You can use itertools.cycle() for this. It returns an iterator that cycles through a list endlessly.\n",
    "from itertools import cycle\n",
    "cards = ['A', 'K', 'Q', 'J', '10', '9', '8', '7', '6', '5', '4', '3', '2']\n",
    "for idx, card in enumerate(cycle(cards)):\n",
    "    print(card) # A, K, Q, J, 10, 9, 8, 7, 6, 5, 4, 3, 2, A, K, Q, J, 10, 9, 8, 7, 6, 5, 4, 3, 2, etc.\n",
    "    if idx > 5:\n",
    "        break\n",
    "\n",
    "# Groupby() will give you an iterator that returns consecutive keys and groups from the iterable.\n",
    "from itertools import groupby\n",
    "my_list = [1, 1, 1, 2, 2, 3, 3, 3, 3]\n",
    "for key, group in groupby(my_list):\n",
    "    print(key, list(group)) # 1 [1, 1, 1], 2 [2, 2], 3 [3, 3, 3, 3]\n",
    "\n",
    "# The last function I want to mention is zip_longest(). It is similar to zip(), but it will\n",
    "# fill in a default value for missing values. Normally, zip() will stop when the shortest iterable is exhausted.\n",
    "from itertools import zip_longest\n",
    "keys = ['a', 'b', 'c']\n",
    "values = [1, 2]\n",
    "for key, value in zip_longest(keys, values, fillvalue=0):\n",
    "    print(key, value) # a 1, b 2, c 0\n",
    "\n",
    "# You can find more itertools functions here: https://docs.python.org/3/library/itertools.html\n",
    "# Although I want to only mention built-in packages, the https://pypi.org/project/more-itertools/ package is also very useful."
   ]
  },
  {
   "cell_type": "markdown",
   "metadata": {},
   "source": [
    "### Functools, a very nice module for higher-order functions"
   ]
  },
  {
   "cell_type": "code",
   "execution_count": 25,
   "metadata": {},
   "outputs": [
    {
     "name": "stdout",
     "output_type": "stream",
     "text": [
      "3\n",
      "Calling add\n",
      "3\n",
      "3\n",
      "3\n",
      "15\n"
     ]
    }
   ],
   "source": [
    "# Functions are first class citizens in Python. That means that you can pass them around like any other variable.\n",
    "# The following is therefore perfectly valid:\n",
    "\n",
    "def add(a, b):\n",
    "    return a + b\n",
    "\n",
    "my_var = add\n",
    "print(my_var(1, 2)) # 3\n",
    "\n",
    "# The object `add` is a function, but the name itself is just a variable. You can assign it to another variable. \n",
    "# Calling a function is done by adding parentheses after the variable name. This way, you can pass\n",
    "# functions to other functions. This is very useful when you want to use a function as an argument. \n",
    "\n",
    "# The functool module contains a few functions that are useful when working with functions. When doing AoC, you\n",
    "# will look for an O(1) solution, but sometimes you can't find it. In that case, you might benefit from memoization.\n",
    "\n",
    "# Memoization is a technique where you store the results of a function call, so that you can reuse them later. In Python\n",
    "# you can use the @cache decorator from the functools module for this. Given a set of input parameters, it will \n",
    "# return the cached result if it is available, otherwise it will call the function and store the result.\n",
    "\n",
    "# See the following example:\n",
    "\n",
    "from functools import cache\n",
    "\n",
    "@cache\n",
    "def add(a, b):\n",
    "    print(\"Calling add\")\n",
    "    return a + b\n",
    "\n",
    "for i in range(3):\n",
    "    print(add(1, 2)) # Calling add, 3, 3\n",
    "\n",
    "# The first time we call add(1, 2), the function is called. The second time, the result is returned from the cache.\n",
    "# This is useful when you have a recursive function that you want to speed up. Think day 4 part 2. \n",
    "\n",
    "# You will get bonus points if you are going to use reduce() from the functools module. reduce() is a function that\n",
    "# applies a function of two arguments cumulatively to the items of an iterable, from left to right, so as to reduce\n",
    "# the iterable to a single value. An example copied from the docs is most explanatory:\n",
    "from functools import reduce\n",
    "my_calculation = reduce(lambda x, y: x+y, [1, 2, 3, 4, 5]) # calculates ((((1+2)+3)+4)+5)\n",
    "print(my_calculation) # 15\n",
    "\n"
   ]
  },
  {
   "cell_type": "markdown",
   "metadata": {},
   "source": [
    "### Mutable object vs unmutable objects\n",
    "Everything in Python is an object. Functions themselves are even objects. Class definitions are objects, \n",
    "and instances of those classes are objects. A string is an object, an integer as well.\n",
    "\n",
    "In Python you have two kinds of objects; mutable and immutable. For example, an `int` is immutable type of object. A mutable example is `list`.\n",
    "\n",
    "Let's dive into why this is important!"
   ]
  },
  {
   "cell_type": "code",
   "execution_count": 26,
   "metadata": {},
   "outputs": [
    {
     "name": "stdout",
     "output_type": "stream",
     "text": [
      "4395906800\n",
      "True\n",
      "True\n",
      "True\n",
      "False\n",
      "False\n",
      "True\n",
      "False\n",
      "OH HI THERE\n"
     ]
    }
   ],
   "source": [
    "# Before we do so, it's important to understand the difference between a variable and an object.\n",
    "# A variable is a reference to an object. The object itself is stored in memory.\n",
    "\n",
    "my_var = 'Oh hi there'\n",
    "\n",
    "# my_var is a variable that references the string object 'Oh hi there'. \n",
    "# The string object itself is stored in memory. You can see the memory address of an object using the id() function.\n",
    "\n",
    "print(id(my_var)) # 140565450160144\n",
    "\n",
    "# This number is considered the object's identity. It is unique and constant for this object during its lifetime.\n",
    "# This means that you can have multiple variables that reference the same object.\n",
    "\n",
    "my_var = 'Oh hi there'\n",
    "my_second_var = my_var\n",
    "\n",
    "print(id(my_var) == id(my_second_var)) # True\n",
    "\n",
    "# This explains pretty much the differnce between `is` and `==`. The `is` operator checks if two variables reference the same object.\n",
    "# The `==` operator checks if two variables have the same value.\n",
    "\n",
    "my_var = 'Oh hi there'\n",
    "my_second_var = my_var\n",
    "print(my_var is my_second_var) # True\n",
    "print(id(my_var) == id(my_second_var)) # True\n",
    "\n",
    "my_var = 'Oh hi there'\n",
    "my_second_var = 'Oh hi there'\n",
    "print(my_var is my_second_var) # False  (because they reference different objects)\n",
    "print(id(my_var) == id(my_second_var)) # True (because they have the same value)\n",
    "\n",
    "# But what if you change the value of `my_second_var`? Will `my_var` change as well? Let's see!\n",
    "my_var = 'Oh hi there'\n",
    "my_second_var = my_var\n",
    "print(id(my_var) == id(my_second_var)) # True\n",
    "\n",
    "my_second_var = my_second_var.upper()\n",
    "print(id(my_var) == id(my_second_var)) # False\n",
    "print(my_second_var) # OH HI THERE\n",
    "\n",
    "# So, changing the value of `my_second_var` does not change the value of `my_var`! This is because strings are immutable."
   ]
  },
  {
   "cell_type": "code",
   "execution_count": 27,
   "metadata": {},
   "outputs": [
    {
     "name": "stdout",
     "output_type": "stream",
     "text": [
      "True\n",
      "True\n",
      "[1, 2, 3, 4]\n",
      "[1, 2, 3, 4]\n",
      "[4, 4]\n",
      "[4, 4]\n",
      "4390271296\n",
      "4390271296\n",
      "[[], [], []]\n",
      "[[1], [1], [1]]\n"
     ]
    }
   ],
   "source": [
    "# The example above is pretty straightforward. But what if we have a list? Lists are mutable, so what happens if we change the list?\n",
    "my_list = [1, 2, 3]\n",
    "my_second_list = my_list\n",
    "print(id(my_list) == id(my_second_list)) # True\n",
    "\n",
    "my_second_list.append(4)\n",
    "print(id(my_list) == id(my_second_list)) # True\n",
    "print(my_list) # [1, 2, 3, 4]\n",
    "\n",
    "# What? We changed the list, but the id is still the same? This is because lists are mutable.\n",
    "# When you you change an immutable object, you create a new object. When you change a mutable object, you change the object itself. \n",
    "# The id of the object stays the same.\n",
    "\n",
    "# This is important to understand when you are working with functions. Let's say you have a function that takes a list as an argument.\n",
    "# If you change the list inside the function, the list will be changed outside the function as well. This is because lists are mutablle\n",
    "\n",
    "def change_list(my_list):\n",
    "    my_list.append(4)\n",
    "\n",
    "my_list = [1, 2, 3]\n",
    "change_list(my_list)\n",
    "print(my_list) # [1, 2, 3, 4]\n",
    "\n",
    "# This behaviour can be a real headache. Say you have a function that takes a parameter with a default value of an empty list.\n",
    "\n",
    "def get_new_list_or_add_four(my_list=[]):\n",
    "    my_list.append(4)\n",
    "    return my_list\n",
    "\n",
    "a = get_new_list_or_add_four()\n",
    "b = get_new_list_or_add_four()\n",
    "\n",
    "# This seems simple enought. Both a and b should be [4], right? Wrong! Both a and b are [4, 4]!\n",
    "\n",
    "print(a) # [4, 4]\n",
    "print(b) # [4, 4]\n",
    "\n",
    "# This is because the default value of the parameter is evaluated when the function is defined, not when it is called.\n",
    "# This means that the default value is the same object for every call of the function.\n",
    "\n",
    "# You can see this by printing the id of the default value of the parameter.\n",
    "def get_new_list_or_add_four(my_list=[]):\n",
    "    print(id(my_list))\n",
    "    my_list.append(4)\n",
    "    return my_list\n",
    "\n",
    "a = get_new_list_or_add_four() # 4361860416\n",
    "b = get_new_list_or_add_four() # 4361860416\n",
    "\n",
    "# Both a and b have the same id, which means that they are the same object.\n",
    "\n",
    "# The following types are immutable in Python:\n",
    "# int, float, bool, string, tuple, frozenset, bytes\n",
    "\n",
    "# The following types are mutable in Python:\n",
    "# list, dict, set, bytearray, user-defined classes\n",
    "\n",
    "# You can find more information about this here: https://docs.python.org/3/reference/datamodel.html#objects-values-and-types\n",
    "# Here is one more example where this will become extremely apperent:\n",
    "\n",
    "my_list = [[]] * 3\n",
    "print(my_list) # [[], [], []]\n",
    "my_list[0].append(1)\n",
    "print(my_list) # [[1], [1], [1]]\n",
    "\n",
    "# Mind blown, right?"
   ]
  },
  {
   "cell_type": "markdown",
   "metadata": {},
   "source": [
    "### Complex numbers to make things easy?\n",
    "Complex numbers are numbers that consist out of two parts: a 'real' part and a 'imaginary' part. The real part is any real number (int or float). The imaginary part is written as `j` or `J` in Python. It can become handy if you have to store tuples of two numbers, and this is why!"
   ]
  },
  {
   "cell_type": "code",
   "execution_count": 28,
   "metadata": {},
   "outputs": [
    {
     "name": "stdout",
     "output_type": "stream",
     "text": [
      "<class 'complex'>\n",
      "1.0\n",
      "2.0\n",
      "{0j: 1, (1+0j): 2, (2+0j): 3, 1j: 4, (1+1j): 5, (2+1j): 6, 2j: 7, (1+2j): 8, (2+2j): 9}\n",
      "(4+6j)\n"
     ]
    }
   ],
   "source": [
    "# Complex numbers in Python are written with a j as the imaginary part.\n",
    "my_complex_number = 1 + 2j\n",
    "\n",
    "# This seems like a normal sum, but '1 + 2j' is actually one object (a complex number).\n",
    "print(type(my_complex_number)) # complex\n",
    "\n",
    "# The real number and imaginary number can be accessed using the real and imag attributes.\n",
    "print(my_complex_number.real) # 1.0\n",
    "print(my_complex_number.imag) # 2.0\n",
    "\n",
    "# One effective use of complex numbers, is if you have to do basic arithmetic on coordinates. Consider the following grid:\n",
    "grid =[\n",
    "    [1, 2, 3],\n",
    "    [4, 5, 6],\n",
    "    [7, 8, 9]\n",
    "]\n",
    "\n",
    "# You can effectively use complex numbers to represent the coordinates of the grid. For example, each coordinate\n",
    "# can be represented by a complex number, where the real part is the x-coordinate and the imaginary part is the y-coordinate.\n",
    "coord_value_dict = {}\n",
    "for y, row in enumerate(grid):\n",
    "    for x, value in enumerate(row):\n",
    "        coord_value_dict[complex(x, y)] = value\n",
    "\n",
    "print(coord_value_dict)\n",
    "\n",
    "# This could also easily been done using tuples with (x,y) coordinates. Just as tuples, complex numbers are immutable and therefor\n",
    "# hashable. This means that you can use them as keys in a dictionary. However, what if you want the coordinate left of a point?\n",
    "\n",
    "# Complex numbers are easily added/subtracted. For example, if you want the coordinate left of a point, you can just subtract 1 \n",
    "# because the real part involves the x-coordinate. If you want want de coordinate above a point, you can add 1j because the\n",
    "# imaginary part involves the y-coordinate.\n",
    "\n",
    "print(complex(1,2)+complex(3,4)) # (4+6j)\n",
    "\n"
   ]
  },
  {
   "cell_type": "code",
   "execution_count": 29,
   "metadata": {},
   "outputs": [
    {
     "name": "stdout",
     "output_type": "stream",
     "text": [
      "Coordinate 0j with value 1 has neighbor (1+0j) with value 2\n",
      "Coordinate (1+0j) with value 2 has neighbor 1j with value 4\n",
      "Coordinate (2+0j) with value 3 has neighbor (2+1j) with value 6\n",
      "Coordinate 1j with value 4 has neighbor (1+2j) with value 8\n",
      "Total: 4\n"
     ]
    }
   ],
   "source": [
    "# Let's consider de grid again and create a coordinate-value mapping dictionary.\n",
    "grid =[\n",
    "    [1, 2, 3],\n",
    "    [4, 5, 6],\n",
    "    [7, 8, 9]\n",
    "]\n",
    "coord_value_dict = {}\n",
    "for y, row in enumerate(grid):\n",
    "    for x, value in enumerate(row):\n",
    "        coord_value_dict[complex(x, y)] = value\n",
    "\n",
    "# We want to know how many of the values in the grid are twice the value of any of its neighbors, including diagonals.\n",
    "# First, we create a list of all the neighbors of a point. We can do this by adding/subtracting 1 or 1j to the point.\n",
    "\n",
    "# Manually:\n",
    "neighbors = [complex(1, 0), complex(-1, 0), complex(0, 1), complex(0, -1), complex(1, 1), complex(-1, -1), complex(1, -1), complex(-1, 1)]\n",
    "# Cooler but less readable:\n",
    "from itertools import product\n",
    "neighbours = [complex(x, y) for x, y in list(product(range(-1,2), repeat=2)) if not all([x==0, y==0])]\n",
    "\n",
    "# Now we can loop over the grid and check if the value is twice the value of any of its neighbors.\n",
    "count = 0\n",
    "for coord, value in coord_value_dict.items(): # coord_value_dict is a dictionary with complex numbers as keys (coordinates) and values as values.\n",
    "    for neighbor in neighbors: # neighbors is a list of complex numbers which you can now use as relative coordinates.\n",
    "        if coord_value_dict.get(coord + neighbor, 0) == value * 2: # get the value of the neighbor, if it exists. Otherwise, return 0.\n",
    "            count += 1 # if the value of the neighbor is twice the value of the current coordinate, add 1 to the count.\n",
    "            print(f\"Coordinate {coord} with value {value} has neighbor {coord + neighbor} with value {coord_value_dict.get(coord + neighbor, 0)}\")\n",
    "\n",
    "print(f\"Total: {count}\") # Total: 4\n",
    "\n",
    "# Note that zero's are left out of the real part. So complex(0, 1) is the same as 1j. This is because the real part is 0.\n",
    "# Coordinate 0,0 is represented as 0j. \n",
    "\n",
    "# In AoC, you will often have to deal with a grid, and evaluate neighbors of a point. This is a handy way to do so."
   ]
  },
  {
   "cell_type": "markdown",
   "metadata": {},
   "source": [
    "### For loops, while not break, or else...\n",
    "For and while loops are well known, but there is a neat little feature that might come in handy. For and while loops can have `else` clauses, like if-else statements. The behavior is a bit different though, as you can see in the below example."
   ]
  },
  {
   "cell_type": "code",
   "execution_count": 32,
   "metadata": {},
   "outputs": [
    {
     "name": "stdout",
     "output_type": "stream",
     "text": [
      "0\n",
      "1\n",
      "2\n",
      "Done!\n",
      "0\n",
      "1\n",
      "Breaking out..\n",
      "13 is prime\n"
     ]
    }
   ],
   "source": [
    "# Let's see what an  `else` clause does in a for loop.\n",
    "\n",
    "for i in range(3):\n",
    "    print(i)\n",
    "else:\n",
    "    print(\"Done!\")\n",
    "\n",
    "# The else statement is executed after the for loop is finished. It is not executed if the loop is terminated by a break statement!\n",
    "\n",
    "for i in range(3):\n",
    "    print(i)\n",
    "    if i == 1:\n",
    "        print(\"Breaking out..\")\n",
    "        break\n",
    "else:\n",
    "    print(\"Done!\")\n",
    "\n",
    "# The else statement is not executed because the loop is terminated by a break statement. This is useful if you want to\n",
    "# check if a loop was terminated by a break statement. For example, you need to check if a number is prime. If you find\n",
    "# a number that divides the number, you can break out of the loop. If you don't find a number that divides the number,\n",
    "# you know that it is prime.\n",
    "number_to_check = 13\n",
    "for i in range(2, number_to_check):\n",
    "    if number_to_check % i == 0:\n",
    "        print(f\"{number_to_check} is not prime\")\n",
    "        break\n",
    "else:\n",
    "    print(f\"{number_to_check} is prime\")\n",
    "\n"
   ]
  },
  {
   "cell_type": "markdown",
   "metadata": {},
   "source": [
    "## Dataclasses can help in writing readable code.\n",
    "Dataclasses are normal classes, but decorated with  `@dataclass`. You can use dataclasses to define named (and typed!) properties that will provide both clearity while writing code, as clearity when reading your code. The clearity during writing your code will come from Intellisense."
   ]
  },
  {
   "cell_type": "code",
   "execution_count": null,
   "metadata": {},
   "outputs": [],
   "source": [
    "# Dataclasses must be imported before you can work with them. \n",
    "from dataclasses import dataclass\n",
    "\n",
    "@dataclass\n",
    "class Coordinate:\n",
    "    x: int\n",
    "    y: int\n",
    "    value: str\n",
    "\n",
    "\n",
    "\n"
   ]
  },
  {
   "cell_type": "markdown",
   "metadata": {},
   "source": [
    "### To discuss: Pandas, Numpy..."
   ]
  }
 ],
 "metadata": {
  "kernelspec": {
   "display_name": ".venv",
   "language": "python",
   "name": "python3"
  },
  "language_info": {
   "codemirror_mode": {
    "name": "ipython",
    "version": 3
   },
   "file_extension": ".py",
   "mimetype": "text/x-python",
   "name": "python",
   "nbconvert_exporter": "python",
   "pygments_lexer": "ipython3",
   "version": "3.11.6"
  }
 },
 "nbformat": 4,
 "nbformat_minor": 2
}
