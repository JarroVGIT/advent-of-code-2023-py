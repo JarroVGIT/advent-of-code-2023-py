{
 "cells": [
  {
   "cell_type": "markdown",
   "metadata": {},
   "source": []
  },
  {
   "cell_type": "markdown",
   "metadata": {},
   "source": [
    "# Some tips and tricks in Python that will come in handy with AoC"
   ]
  },
  {
   "cell_type": "markdown",
   "metadata": {},
   "source": [
    "### Some basics about lists, dicts and their properties."
   ]
  },
  {
   "cell_type": "code",
   "execution_count": 75,
   "metadata": {},
   "outputs": [
    {
     "name": "stdout",
     "output_type": "stream",
     "text": [
      "1\n",
      "4\n",
      "[1, 2, 3, 4, 5, 6]\n",
      "{'a': 1, 'b': 2, 'c': 3, 'd': 4, 'e': 5, 'f': 6}\n",
      "104\n",
      "80\n",
      "[1, 2, 3, 4, 5, 5, 5, 5]\n",
      "{1, 2, 3, 4, 5}\n"
     ]
    }
   ],
   "source": [
    "# Lists are ordered, indexed, mutable containers of elements. Dictionaries are unordered, mutable containers of key-value pairs.\n",
    "my_list = [1, 2, 3, 4, 5]\n",
    "my_dictionary = {'a': 1, 'b': 2, 'c': 3, 'd': 4, 'e': 5}\n",
    "\n",
    "# To get elements, lists use the index of the element, dictionaries use the key of the element.\n",
    "print(my_list[0])  # 1\n",
    "print(my_dictionary['d'])  # 4\n",
    "\n",
    "# To add elements, lists use the append() method, dictionaries use the key of the element.\n",
    "my_list.append(6)\n",
    "print(my_list)  # [1, 2, 3, 4, 5, 6]\n",
    "my_dictionary['f'] = 6\n",
    "print(my_dictionary)  # {'a': 1, 'b': 2, 'c': 3, 'd': 4, 'e': 5, 'f': 6}\n",
    "\n",
    "# Tuples are ordered, indexed, immutable containers of elements. Sets are unordered, mutable containers of unique elements.\n",
    "my_tuple = (1, 2, 3, 4, 5)\n",
    "my_set = {1, 2, 3, 4, 5}\n",
    "\n",
    "# Tuples are handy because they are memory efficient. See for your self:\n",
    "import sys\n",
    "print(sys.getsizeof(my_list))  # 104\n",
    "print(sys.getsizeof(my_tuple))  # 88\n",
    "\n",
    "# Sets are handy because they are unique. See for yourself:\n",
    "some_list = [1, 2, 3, 4, 5, 5, 5, 5]\n",
    "my_set = {1, 2, 3, 4, 5, 5, 5, 5}\n",
    "print(some_list)  # [1, 2, 3, 4, 5, 5, 5, 5]\n",
    "print(my_set)  # {1, 2, 3, 4, 5}\n",
    "\n"
   ]
  },
  {
   "cell_type": "code",
   "execution_count": 2,
   "metadata": {},
   "outputs": [
    {
     "name": "stdout",
     "output_type": "stream",
     "text": [
      "[('a', 1), ('b', 2), ('c', 3)]\n",
      "a 1\n",
      "b 2\n",
      "c 3\n",
      "a 1\n",
      "b 2\n",
      "c 3\n"
     ]
    }
   ],
   "source": [
    "# Use zip() to combine elements from multiple iterables into tuples.\n",
    "keys = ['a', 'b', 'c']\n",
    "values = [1, 2, 3]\n",
    "zipped = zip(keys, values)\n",
    "print(list(zipped))  # [('a', 1), ('b', 2), ('c', 3)]\n",
    "\n",
    "# Note that we had to put the zipped variable in a list, as zip() returns an iterator (lazy but memroy efficient).\n",
    "\n",
    "# You often see zip() used in a for loop, if you want to iterate over multiple iterables at the same time.\n",
    "for key, value in zip(keys, values):\n",
    "    print(key, value)  # a 1, b 2, c 3\n",
    "\n",
    "# Alternative is using enumerate() to get the index and value of an iterable.\n",
    "for index, value in enumerate(values):\n",
    "    print(keys[index], value)  # a 1, b 2, c 3\n",
    "    \n"
   ]
  },
  {
   "cell_type": "markdown",
   "metadata": {},
   "source": [
    "### Sets and their properties"
   ]
  },
  {
   "cell_type": "code",
   "execution_count": 48,
   "metadata": {},
   "outputs": [
    {
     "name": "stdout",
     "output_type": "stream",
     "text": [
      "My list:  [1, 2, 3, 3, 4, 5, 5, 5, 6]\n",
      "My set:  {1, 2, 3, 4, 5, 6}\n",
      "3 is in the set\n",
      "My second set:  {'b', 1, 2, 'a'}\n",
      "Union:  {1, 2, 3, 4, 5, 6, 'b', 'a'}\n",
      "Intersection:  {1, 2}\n",
      "Difference:  {3, 4, 5, 6}\n",
      "Symmetric difference:  {'b', 3, 4, 5, 6, 'a'}\n"
     ]
    }
   ],
   "source": [
    "# Sets are unordered collections of unique elements. They are useful for removing duplicates from a list. \n",
    "# They are also useful for checking if an element is in a collection (O(1) time complexity)\n",
    "\n",
    "my_list = [1, 2, 3, 3, 4, 5, 5, 5, 6]\n",
    "print(\"My list: \", my_list)\n",
    "\n",
    "# Sets are unordered! Any order is possible when printing\n",
    "my_set = set(my_list)\n",
    "print(\"My set: \", my_set)\n",
    "\n",
    "\n",
    "# Sets are useful for checking if an element is in a collection\n",
    "if 3 in my_set:\n",
    "    print(\"3 is in the set\")\n",
    "\n",
    "# You can create  unions of sets (all unique items from two sets) using the `|` operator\n",
    "my_second_set = {1, 2, 'a', 'b'}\n",
    "print(\"My second set: \", my_second_set)\n",
    "print(\"Union: \", my_set | my_second_set)\n",
    "\n",
    "# You can create intersections of sets (all items that are in both sets) using the `&` operator\n",
    "print(\"Intersection: \", my_set & my_second_set)\n",
    "\n",
    "# You can create differences of sets (all items that are in the first set, but not in the second) using the `-` operator\n",
    "print(\"Difference: \", my_set - my_second_set)\n",
    "\n",
    "# You can create symmetric differences of sets (all items that are in either set, but not in both) using the `^` operator\n",
    "print(\"Symmetric difference: \", my_set ^ my_second_set)\n",
    "\n",
    "# Conclusion: sets() are cool!"
   ]
  },
  {
   "cell_type": "markdown",
   "metadata": {},
   "source": [
    "### Using the `collections` module, it's your friend!"
   ]
  },
  {
   "cell_type": "code",
   "execution_count": 41,
   "metadata": {},
   "outputs": [
    {
     "name": "stdout",
     "output_type": "stream",
     "text": [
      "Counter Counter({'A': 3, 'B': 2, 'C': 1})\n",
      "Default dict defaultdict(<function <lambda> at 0x000001EC0D0004C0>, {'A': 3, 'B': 2, 'C': 1})\n"
     ]
    }
   ],
   "source": [
    "# Use Counter() when counting occurences of items in an iterable (list, string, etc.)\n",
    "from collections import Counter\n",
    "\n",
    "s = 'AAABBC'\n",
    "c = Counter(s)\n",
    "print(\"Counter\", c)\n",
    "\n",
    "# Use defaultdict() when you want to create a dictionary with a default value for non-existing keys\n",
    "# The function that you provide must take 0 parameters and return a value. Use `lambda: <default_value>` to create such a function.\n",
    "from collections import defaultdict\n",
    "\n",
    "d = defaultdict(lambda: 0)\n",
    "for c in s:\n",
    "    d[c] += 1\n",
    "print(\"Default dict\", d)\n",
    "\n"
   ]
  },
  {
   "cell_type": "code",
   "execution_count": null,
   "metadata": {},
   "outputs": [],
   "source": [
    "# Lists are handy for storing ordered collections of items. They are mutable, which means that you can change them after creation.\n",
    "# You can also get items by index in O(1) time complexity.\n",
    "\n",
    "# Lists can be slow though, especially when used as stacks. (Stacks are collections where you can only add/remove items at the end). \n",
    "# When you find yourself in a situation where you implement a stack, try using collections.deque (double ended queue) instead. \n",
    "# It is much faster for stacks and queues.\n",
    "\n",
    "# Example: we want to process all numbers between 0 and N, recursively, and add them.\n",
    "result = 0\n",
    "my_list = [3]\n",
    "while my_list:\n",
    "    print(\"Current list: \", my_list)\n",
    "    item = my_list.pop(0)                           # take first item of list and remove it.\n",
    "    print(f\"Processing item value: {item}\")\n",
    "    result += item\n",
    "    print(\"Intermediate result: \", result)\n",
    "    for i in range(item):\n",
    "        my_list.append(i)                           # add item 0 upto (exclusive) N to the end of the list\n",
    "    print(\" \")\n",
    "print(\"Final result: \", result)"
   ]
  },
  {
   "cell_type": "code",
   "execution_count": null,
   "metadata": {},
   "outputs": [],
   "source": [
    "# Doing the same with a double ended queue (deque)\n",
    "# Remember, deque is a double ended queue. You can add/remove items at the start and end of the queue.\n",
    "# So rather than using pop(0) to take the first item, we use popleft() to take the first item.\n",
    "\n",
    "from collections import deque\n",
    "result = 0\n",
    "my_deque = deque([3])\n",
    "while my_deque:\n",
    "    print(\"Current list: \", my_deque)\n",
    "    item = my_deque.popleft()                      # take first item of list and remove it using popleft()\n",
    "    print(f\"Processing item value: {item}\")\n",
    "    result += item\n",
    "    print(\"Intermediate result: \", result)\n",
    "    for i in range(item):\n",
    "        my_deque.append(i)                           # add item 0 upto (exclusive) N to the end of the list\n",
    "    print(\" \")\n",
    "print(\"Final result: \", result)"
   ]
  },
  {
   "cell_type": "code",
   "execution_count": 64,
   "metadata": {},
   "outputs": [],
   "source": [
    "# Although they look pretty similar, the deque version is much faster. We can time it!\n",
    "\n",
    "from collections import deque\n",
    "def using_list(start_int):\n",
    "    result = 0\n",
    "    my_list = [3]\n",
    "    while my_list:\n",
    "        item = my_list.pop(0)                           # take first item of list and remove it.\n",
    "        result += item\n",
    "        for i in range(item):\n",
    "            my_list.append(i)                           # add item 0 upto (exclusive) N to the end of the list\n",
    "    return result\n",
    "\n",
    "def using_deque(start_int):\n",
    "    result = 0\n",
    "    my_deque = deque([3])\n",
    "    while my_deque:\n",
    "        item = my_deque.popleft()                      # take first item of list and remove it using popleft()\n",
    "        result += item\n",
    "        for i in range(item):\n",
    "            my_deque.append(i)                           # add item 0 upto (exclusive) N to the end of the list\n",
    "    return result\n"
   ]
  },
  {
   "cell_type": "code",
   "execution_count": 65,
   "metadata": {},
   "outputs": [
    {
     "name": "stdout",
     "output_type": "stream",
     "text": [
      "Using a list a 10.000 times (small int):  0.071946800002479\n",
      "Using a deque a 10.000 times (small int):  0.055354099997202866\n"
     ]
    }
   ],
   "source": [
    "\n",
    "import timeit\n",
    "from functools import partial\n",
    "print(\"Using a list a 10.000 times (small int): \", timeit.timeit(partial(using_list, 3), number=10000))\n",
    "print(\"Using a deque a 10.000 times (small int): \", timeit.timeit(partial(using_deque, 3), number=10000))\n",
    "\n",
    "# Results:\n",
    "# Using a list a 10.000 times (small int):  0.071946800002479\n",
    "# Using a deque a 10.000 times (small int):  0.055354099997202866"
   ]
  },
  {
   "cell_type": "code",
   "execution_count": 69,
   "metadata": {},
   "outputs": [
    {
     "name": "stdout",
     "output_type": "stream",
     "text": [
      "Using a list a 10.000 times (larger int):  0.1034739000024274\n",
      "Using a deque a 10.000 times (larger int):  0.05009819999395404\n"
     ]
    }
   ],
   "source": [
    "\n",
    "print(\"Using a list a 10.000 times (larger int): \", timeit.timeit(partial(using_list, 10), number=10000))\n",
    "print(\"Using a deque a 10.000 times (larger int): \", timeit.timeit(partial(using_deque, 10), number=10000))\n",
    "\n",
    "# Results:\n",
    "# Using a list a 10.000 times (larger int):  0.1034739000024274\n",
    "# Using a deque a 10.000 times (larger int):  0.05009819999395404\n",
    "\n",
    "# That is already twice as fast! And the larger the numbers, the bigger the difference."
   ]
  },
  {
   "cell_type": "code",
   "execution_count": 72,
   "metadata": {},
   "outputs": [
    {
     "name": "stdout",
     "output_type": "stream",
     "text": [
      "Using a list a 10.000 times (even larger int):  0.1361823000042932\n",
      "Using a deque a 10.000 times (even larger int):  0.05713070000638254\n"
     ]
    }
   ],
   "source": [
    "print(\"Using a list a 10.000 times (even larger int): \", timeit.timeit(partial(using_list, 100), number=10000))\n",
    "print(\"Using a deque a 10.000 times (even larger int): \", timeit.timeit(partial(using_deque, 100), number=10000))\n",
    "\n",
    "# Results:\n",
    "# Using a list a 10.000 times (even larger int):  0.1361823000042932\n",
    "# Using a deque a 10.000 times (even larger int):  0.05713070000638254"
   ]
  },
  {
   "cell_type": "markdown",
   "metadata": {},
   "source": [
    "### Module `itertools` provide efficient tools as well!"
   ]
  }
 ],
 "metadata": {
  "kernelspec": {
   "display_name": ".venv",
   "language": "python",
   "name": "python3"
  },
  "language_info": {
   "codemirror_mode": {
    "name": "ipython",
    "version": 3
   },
   "file_extension": ".py",
   "mimetype": "text/x-python",
   "name": "python",
   "nbconvert_exporter": "python",
   "pygments_lexer": "ipython3",
   "version": "3.10.9"
  }
 },
 "nbformat": 4,
 "nbformat_minor": 2
}
