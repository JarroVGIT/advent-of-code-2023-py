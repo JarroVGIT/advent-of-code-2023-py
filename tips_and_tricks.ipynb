{
 "cells": [
  {
   "cell_type": "markdown",
   "metadata": {},
   "source": []
  },
  {
   "cell_type": "markdown",
   "metadata": {},
   "source": [
    "# Some tips and tricks in Python that will come in handy with AoC"
   ]
  },
  {
   "cell_type": "markdown",
   "metadata": {},
   "source": [
    "### Some basics about lists, dicts and their properties."
   ]
  },
  {
   "cell_type": "code",
   "execution_count": 75,
   "metadata": {},
   "outputs": [
    {
     "name": "stdout",
     "output_type": "stream",
     "text": [
      "1\n",
      "4\n",
      "[1, 2, 3, 4, 5, 6]\n",
      "{'a': 1, 'b': 2, 'c': 3, 'd': 4, 'e': 5, 'f': 6}\n",
      "104\n",
      "80\n",
      "[1, 2, 3, 4, 5, 5, 5, 5]\n",
      "{1, 2, 3, 4, 5}\n"
     ]
    }
   ],
   "source": [
    "# Lists are ordered, indexed, mutable containers of elements. Dictionaries are unordered, mutable containers of key-value pairs.\n",
    "my_list = [1, 2, 3, 4, 5]\n",
    "my_dictionary = {'a': 1, 'b': 2, 'c': 3, 'd': 4, 'e': 5}\n",
    "\n",
    "# To get elements, lists use the index of the element, dictionaries use the key of the element.\n",
    "print(my_list[0])  # 1\n",
    "print(my_dictionary['d'])  # 4\n",
    "\n",
    "# To add elements, lists use the append() method, dictionaries use the key of the element.\n",
    "my_list.append(6)\n",
    "print(my_list)  # [1, 2, 3, 4, 5, 6]\n",
    "my_dictionary['f'] = 6\n",
    "print(my_dictionary)  # {'a': 1, 'b': 2, 'c': 3, 'd': 4, 'e': 5, 'f': 6}\n",
    "\n",
    "# Tuples are ordered, indexed, immutable containers of elements. Sets are unordered, mutable containers of unique elements.\n",
    "my_tuple = (1, 2, 3, 4, 5)\n",
    "my_set = {1, 2, 3, 4, 5}\n",
    "\n",
    "# Tuples are handy because they are memory efficient. See for your self:\n",
    "import sys\n",
    "print(sys.getsizeof(my_list))  # 104\n",
    "print(sys.getsizeof(my_tuple))  # 88\n",
    "\n",
    "# Sets are handy because they are unique. See for yourself:\n",
    "some_list = [1, 2, 3, 4, 5, 5, 5, 5]\n",
    "my_set = {1, 2, 3, 4, 5, 5, 5, 5}\n",
    "print(some_list)  # [1, 2, 3, 4, 5, 5, 5, 5]\n",
    "print(my_set)  # {1, 2, 3, 4, 5}\n",
    "\n"
   ]
  },
  {
   "cell_type": "code",
   "execution_count": 2,
   "metadata": {},
   "outputs": [
    {
     "name": "stdout",
     "output_type": "stream",
     "text": [
      "[('a', 1), ('b', 2), ('c', 3)]\n",
      "a 1\n",
      "b 2\n",
      "c 3\n",
      "a 1\n",
      "b 2\n",
      "c 3\n",
      "('a', 'b', 'c')\n",
      "(1, 2, 3)\n",
      "{'a': 1, 'b': 2, 'c': 3}\n"
     ]
    }
   ],
   "source": [
    "# Use zip() to combine elements from multiple iterables into tuples.\n",
    "keys = ['a', 'b', 'c']\n",
    "values = [1, 2, 3]\n",
    "zipped = zip(keys, values)\n",
    "print(list(zipped))  # [('a', 1), ('b', 2), ('c', 3)]\n",
    "\n",
    "# Note that we had to put the zipped variable in a list, as zip() returns an iterator (lazy but memroy efficient).\n",
    "\n",
    "# You often see zip() used in a for loop, if you want to iterate over multiple iterables at the same time.\n",
    "for k, v in zip(keys, values):\n",
    "    print(k, v)  # a 1, b 2, c 3\n",
    "\n",
    "# Alternative is using enumerate() to get the index and value of an iterable.\n",
    "for index, value in enumerate(values):\n",
    "    print(keys[index], value)  # a 1, b 2, c 3\n",
    "    \n",
    "# Zip can also be used to unzip a list of tuples.\n",
    "zipped = [('a', 1), ('b', 2), ('c', 3)]\n",
    "keys, values = zip(*zipped)\n",
    "print(keys)  # ('a', 'b', 'c')\n",
    "print(values)  # (1, 2, 3)\n",
    "\n",
    "# Zip can also be used to create a dictionary from two lists.\n",
    "keys = ['a', 'b', 'c']\n",
    "values = [1, 2, 3]\n",
    "my_dictionary = dict(zip(keys, values))\n",
    "print(my_dictionary)  # {'a': 1, 'b': 2, 'c': 3}\n"
   ]
  },
  {
   "cell_type": "markdown",
   "metadata": {},
   "source": [
    "### List, dictionary and generator comprehensions"
   ]
  },
  {
   "cell_type": "code",
   "execution_count": null,
   "metadata": {},
   "outputs": [],
   "source": [
    "# List and dictionary comprehensions are a handy way to create lists and dictionaries in a for loop.\n",
    "# They allow you to create lists or dictionaries in a single line of code. Lists comprehensions use square brackets, \n",
    "# while dictionaries comprehensions use curly brackets.\n",
    "\n",
    "my_list = [i for i in range(10)]\n",
    "print(my_list)  # [0, 1, 2, 3, 4, 5, 6, 7, 8, 9]\n",
    "\n",
    "# For dictionary comprehensions, you need to specify the key and value with a : in between.\n",
    "my_dictionary = {i: i+1 for i in range(10)}\n",
    "print(my_dictionary)  # {0: 1, 1: 2, 2: 3, 3: 4, 4: 5, 5: 6, 6: 7, 7: 8, 8: 9, 9: 10}\n",
    "\n",
    "# You can also add conditions to list and dictionary comprehensions.\n",
    "my_list = [i for i in range(10) if i % 2 == 0]\n",
    "print(my_list)  # [0, 2, 4, 6, 8]\n",
    "\n",
    "# The variable my_list is fully loaded in memory. If you want to save memory, you can use a generator expression.\n",
    "# A generator expression is similar to a list comprehension, but it returns an iterator instead of a list.\n",
    "# That means that the elements are not loaded in memory until you need them.\n",
    "my_generator = (i for i in range(10) if i % 2 == 0)\n",
    "print(my_generator)  # <generator object <genexpr> at 0x7f8f4c1d5f50>\n",
    "my_list = list(my_generator)\n",
    "print(my_list)  # [0, 2, 4, 6, 8]\n",
    "\n"
   ]
  },
  {
   "cell_type": "markdown",
   "metadata": {},
   "source": [
    "### Regex in Python with the `re` module"
   ]
  },
  {
   "cell_type": "code",
   "execution_count": 5,
   "metadata": {},
   "outputs": [
    {
     "name": "stdout",
     "output_type": "stream",
     "text": [
      "['1234', '56']\n",
      "<re.Match object; span=(22, 26), match='1234'>\n",
      "<re.Match object; span=(22, 26), match='1234'>\n",
      "<re.Match object; span=(38, 40), match='56'>\n"
     ]
    }
   ],
   "source": [
    "# If you have a problem and you need to solve it with regex, you actually have two problems. \n",
    "# However, if you really need to use regex, you can use the re module that is built into Python.\n",
    "\n",
    "# Let's say you want to extract the numbers from a string.\n",
    "import re\n",
    "\n",
    "my_string = 'This is a string with 1234 numbers in 56 different places.'\n",
    "\n",
    "# 10/10 I would recomment to use r-string notation for regex. This way you don't have to escape the backslash.\n",
    "# The r in r-string stands for..... raw string. Not regex, lol.\n",
    "\n",
    "# There are a few basic ways to use re-functions. The first one is findall().\n",
    "# findall() returns a list of all parts of the string that match the regex.\n",
    "numbers = re.findall(r'\\d+', my_string)\n",
    "print(numbers)  # ['1234', '56']\n",
    "\n",
    "# The second one is search(). search() returns a match object if the regex matches the string, otherwise it returns None.\n",
    "match = re.search(r'\\d+', my_string)\n",
    "print(match)  # <re.Match object; span=(22, 26), match='1234'>\n",
    "\n",
    "# You can also use sub() to replace parts of the string that match the regex.\n",
    "new_string = re.sub(r'\\d+', 'number', my_string)\n",
    "print(new_string)  # This is a string with number numbers in number different places.\n",
    "\n",
    "# Another important fucntion is finditer(). finditer() returns an iterator of match objects.\n",
    "matches = re.finditer(r'\\d+', my_string)\n",
    "for m in matches:\n",
    "    print(m)  # <re.Match object; span=(22, 26), match='1234'>, <re.Match object; span=(44, 46), match='56'>\n",
    "# Note that you can use the span of the match object to get the start and end index of the match! \n"
   ]
  },
  {
   "cell_type": "markdown",
   "metadata": {},
   "source": [
    "### Sets and their properties"
   ]
  },
  {
   "cell_type": "code",
   "execution_count": 48,
   "metadata": {},
   "outputs": [
    {
     "name": "stdout",
     "output_type": "stream",
     "text": [
      "My list:  [1, 2, 3, 3, 4, 5, 5, 5, 6]\n",
      "My set:  {1, 2, 3, 4, 5, 6}\n",
      "3 is in the set\n",
      "My second set:  {'b', 1, 2, 'a'}\n",
      "Union:  {1, 2, 3, 4, 5, 6, 'b', 'a'}\n",
      "Intersection:  {1, 2}\n",
      "Difference:  {3, 4, 5, 6}\n",
      "Symmetric difference:  {'b', 3, 4, 5, 6, 'a'}\n"
     ]
    }
   ],
   "source": [
    "# Sets are unordered collections of unique elements. They are useful for removing duplicates from a list. \n",
    "# They are also useful for checking if an element is in a collection (O(1) time complexity)\n",
    "\n",
    "my_list = [1, 2, 3, 3, 4, 5, 5, 5, 6]\n",
    "print(\"My list: \", my_list)\n",
    "\n",
    "# Sets are unordered! Any order is possible when printing\n",
    "my_set = set(my_list)\n",
    "print(\"My set: \", my_set)\n",
    "\n",
    "\n",
    "# Sets are useful for checking if an element is in a collection\n",
    "if 3 in my_set:\n",
    "    print(\"3 is in the set\")\n",
    "\n",
    "# You can create  unions of sets (all unique items from two sets) using the `|` operator\n",
    "my_second_set = {1, 2, 'a', 'b'}\n",
    "print(\"My second set: \", my_second_set)\n",
    "print(\"Union: \", my_set | my_second_set)\n",
    "\n",
    "# You can create intersections of sets (all items that are in both sets) using the `&` operator\n",
    "print(\"Intersection: \", my_set & my_second_set)\n",
    "\n",
    "# You can create differences of sets (all items that are in the first set, but not in the second) using the `-` operator\n",
    "print(\"Difference: \", my_set - my_second_set)\n",
    "\n",
    "# You can create symmetric differences of sets (all items that are in either set, but not in both) using the `^` operator\n",
    "print(\"Symmetric difference: \", my_set ^ my_second_set)\n",
    "\n",
    "# Conclusion: sets() are cool!"
   ]
  },
  {
   "cell_type": "markdown",
   "metadata": {},
   "source": [
    "### Using the `collections` module, it's your friend!"
   ]
  },
  {
   "cell_type": "code",
   "execution_count": 41,
   "metadata": {},
   "outputs": [
    {
     "name": "stdout",
     "output_type": "stream",
     "text": [
      "Counter Counter({'A': 3, 'B': 2, 'C': 1})\n",
      "Default dict defaultdict(<function <lambda> at 0x000001EC0D0004C0>, {'A': 3, 'B': 2, 'C': 1})\n"
     ]
    }
   ],
   "source": [
    "# Use Counter() when counting occurences of items in an iterable (list, string, etc.)\n",
    "from collections import Counter\n",
    "\n",
    "s = 'AAABBC'\n",
    "c = Counter(s)\n",
    "print(\"Counter\", c)\n",
    "\n",
    "# Use defaultdict() when you want to create a dictionary with a default value for non-existing keys\n",
    "# The function that you provide must take 0 parameters and return a value. Use `lambda: <default_value>` to create such a function.\n",
    "from collections import defaultdict\n",
    "\n",
    "d = defaultdict(lambda: 0)\n",
    "for c in s:\n",
    "    d[c] += 1\n",
    "print(\"Default dict\", d)\n",
    "\n"
   ]
  },
  {
   "cell_type": "code",
   "execution_count": null,
   "metadata": {},
   "outputs": [],
   "source": [
    "# Lists are handy for storing ordered collections of items. They are mutable, which means that you can change them after creation.\n",
    "# You can also get items by index in O(1) time complexity.\n",
    "\n",
    "# Lists can be slow though, especially when used as stacks. (Stacks are collections where you can only add/remove items at the end). \n",
    "# When you find yourself in a situation where you implement a stack, try using collections.deque (double ended queue) instead. \n",
    "# It is much faster for stacks and queues.\n",
    "\n",
    "# Example: we want to process all numbers between 0 and N, recursively, and add them.\n",
    "result = 0\n",
    "my_list = [3]\n",
    "while my_list:\n",
    "    print(\"Current list: \", my_list)\n",
    "    item = my_list.pop(0)                           # take first item of list and remove it.\n",
    "    print(f\"Processing item value: {item}\")\n",
    "    result += item\n",
    "    print(\"Intermediate result: \", result)\n",
    "    for i in range(item):\n",
    "        my_list.append(i)                           # add item 0 upto (exclusive) N to the end of the list\n",
    "    print(\" \")\n",
    "print(\"Final result: \", result)"
   ]
  },
  {
   "cell_type": "code",
   "execution_count": null,
   "metadata": {},
   "outputs": [],
   "source": [
    "# Doing the same with a double ended queue (deque)\n",
    "# Remember, deque is a double ended queue. You can add/remove items at the start and end of the queue.\n",
    "# So rather than using pop(0) to take the first item, we use popleft() to take the first item.\n",
    "\n",
    "from collections import deque\n",
    "result = 0\n",
    "my_deque = deque([3])\n",
    "while my_deque:\n",
    "    print(\"Current list: \", my_deque)\n",
    "    item = my_deque.popleft()                      # take first item of list and remove it using popleft()\n",
    "    print(f\"Processing item value: {item}\")\n",
    "    result += item\n",
    "    print(\"Intermediate result: \", result)\n",
    "    for i in range(item):\n",
    "        my_deque.append(i)                           # add item 0 upto (exclusive) N to the end of the list\n",
    "    print(\" \")\n",
    "print(\"Final result: \", result)"
   ]
  },
  {
   "cell_type": "code",
   "execution_count": 64,
   "metadata": {},
   "outputs": [],
   "source": [
    "# Although they look pretty similar, the deque version is much faster. We can time it!\n",
    "\n",
    "from collections import deque\n",
    "def using_list(start_int):\n",
    "    result = 0\n",
    "    my_list = [3]\n",
    "    while my_list:\n",
    "        item = my_list.pop(0)                           # take first item of list and remove it.\n",
    "        result += item\n",
    "        for i in range(item):\n",
    "            my_list.append(i)                           # add item 0 upto (exclusive) N to the end of the list\n",
    "    return result\n",
    "\n",
    "def using_deque(start_int):\n",
    "    result = 0\n",
    "    my_deque = deque([3])\n",
    "    while my_deque:\n",
    "        item = my_deque.popleft()                      # take first item of list and remove it using popleft()\n",
    "        result += item\n",
    "        for i in range(item):\n",
    "            my_deque.append(i)                           # add item 0 upto (exclusive) N to the end of the list\n",
    "    return result\n"
   ]
  },
  {
   "cell_type": "code",
   "execution_count": 65,
   "metadata": {},
   "outputs": [
    {
     "name": "stdout",
     "output_type": "stream",
     "text": [
      "Using a list a 10.000 times (small int):  0.071946800002479\n",
      "Using a deque a 10.000 times (small int):  0.055354099997202866\n"
     ]
    }
   ],
   "source": [
    "\n",
    "import timeit\n",
    "from functools import partial\n",
    "print(\"Using a list a 10.000 times (small int): \", timeit.timeit(partial(using_list, 3), number=10000))\n",
    "print(\"Using a deque a 10.000 times (small int): \", timeit.timeit(partial(using_deque, 3), number=10000))\n",
    "\n",
    "# Results:\n",
    "# Using a list a 10.000 times (small int):  0.071946800002479\n",
    "# Using a deque a 10.000 times (small int):  0.055354099997202866"
   ]
  },
  {
   "cell_type": "code",
   "execution_count": 69,
   "metadata": {},
   "outputs": [
    {
     "name": "stdout",
     "output_type": "stream",
     "text": [
      "Using a list a 10.000 times (larger int):  0.1034739000024274\n",
      "Using a deque a 10.000 times (larger int):  0.05009819999395404\n"
     ]
    }
   ],
   "source": [
    "\n",
    "print(\"Using a list a 10.000 times (larger int): \", timeit.timeit(partial(using_list, 10), number=10000))\n",
    "print(\"Using a deque a 10.000 times (larger int): \", timeit.timeit(partial(using_deque, 10), number=10000))\n",
    "\n",
    "# Results:\n",
    "# Using a list a 10.000 times (larger int):  0.1034739000024274\n",
    "# Using a deque a 10.000 times (larger int):  0.05009819999395404\n",
    "\n",
    "# That is already twice as fast! And the larger the numbers, the bigger the difference."
   ]
  },
  {
   "cell_type": "code",
   "execution_count": 72,
   "metadata": {},
   "outputs": [
    {
     "name": "stdout",
     "output_type": "stream",
     "text": [
      "Using a list a 10.000 times (even larger int):  0.1361823000042932\n",
      "Using a deque a 10.000 times (even larger int):  0.05713070000638254\n"
     ]
    }
   ],
   "source": [
    "print(\"Using a list a 10.000 times (even larger int): \", timeit.timeit(partial(using_list, 100), number=10000))\n",
    "print(\"Using a deque a 10.000 times (even larger int): \", timeit.timeit(partial(using_deque, 100), number=10000))\n",
    "\n",
    "# Results:\n",
    "# Using a list a 10.000 times (even larger int):  0.1361823000042932\n",
    "# Using a deque a 10.000 times (even larger int):  0.05713070000638254"
   ]
  },
  {
   "cell_type": "markdown",
   "metadata": {},
   "source": [
    "### Module `itertools` provide efficient tools as well!"
   ]
  },
  {
   "cell_type": "code",
   "execution_count": 15,
   "metadata": {},
   "outputs": [
    {
     "name": "stdout",
     "output_type": "stream",
     "text": [
      "1\n",
      "2\n",
      "3\n",
      "1\n",
      "2\n",
      "3\n",
      "A\n",
      "K\n",
      "Q\n",
      "J\n",
      "10\n",
      "9\n",
      "8\n"
     ]
    },
    {
     "ename": "ImportError",
     "evalue": "cannot import name 'batched' from 'itertools' (unknown location)",
     "output_type": "error",
     "traceback": [
      "\u001b[0;31m---------------------------------------------------------------------------\u001b[0m",
      "\u001b[0;31mImportError\u001b[0m                               Traceback (most recent call last)",
      "\u001b[1;32m/Users/jarro/Development/advent-of-code-2023-py/tips_and_tricks.ipynb Cell 21\u001b[0m line \u001b[0;36m3\n\u001b[1;32m     <a href='vscode-notebook-cell:/Users/jarro/Development/advent-of-code-2023-py/tips_and_tricks.ipynb#X31sZmlsZQ%3D%3D?line=25'>26</a>\u001b[0m         \u001b[39mbreak\u001b[39;00m\n\u001b[1;32m     <a href='vscode-notebook-cell:/Users/jarro/Development/advent-of-code-2023-py/tips_and_tricks.ipynb#X31sZmlsZQ%3D%3D?line=28'>29</a>\u001b[0m \u001b[39m# Batched() is a handy function for splitting a list into batches of a given size.\u001b[39;00m\n\u001b[0;32m---> <a href='vscode-notebook-cell:/Users/jarro/Development/advent-of-code-2023-py/tips_and_tricks.ipynb#X31sZmlsZQ%3D%3D?line=29'>30</a>\u001b[0m \u001b[39mfrom\u001b[39;00m \u001b[39mitertools\u001b[39;00m \u001b[39mimport\u001b[39;00m batched\n\u001b[1;32m     <a href='vscode-notebook-cell:/Users/jarro/Development/advent-of-code-2023-py/tips_and_tricks.ipynb#X31sZmlsZQ%3D%3D?line=30'>31</a>\u001b[0m my_list \u001b[39m=\u001b[39m [\u001b[39m1\u001b[39m, \u001b[39m2\u001b[39m, \u001b[39m3\u001b[39m, \u001b[39m4\u001b[39m, \u001b[39m5\u001b[39m, \u001b[39m6\u001b[39m, \u001b[39m7\u001b[39m, \u001b[39m8\u001b[39m, \u001b[39m9\u001b[39m]\n\u001b[1;32m     <a href='vscode-notebook-cell:/Users/jarro/Development/advent-of-code-2023-py/tips_and_tricks.ipynb#X31sZmlsZQ%3D%3D?line=31'>32</a>\u001b[0m \u001b[39mfor\u001b[39;00m batch \u001b[39min\u001b[39;00m batched(my_list, \u001b[39m4\u001b[39m):\n",
      "\u001b[0;31mImportError\u001b[0m: cannot import name 'batched' from 'itertools' (unknown location)"
     ]
    }
   ],
   "source": [
    "# Itertools are, as the name suggests, tools for iterating over iterables.\n",
    "# Someimes, you need a endless loop. Often, you see a while True loop for this, like so:\n",
    "i = 0\n",
    "while True:\n",
    "    i += 1\n",
    "    if i > 3:\n",
    "        break\n",
    "    print(i) # 1, 2, 3\n",
    "\n",
    "# You can also use itertools.count() for this. It returns an iterator that counts up from a given number.\n",
    "from itertools import count\n",
    "for i in count(1): # count(1) starts counting from 1\n",
    "    if i > 3:\n",
    "        break\n",
    "    print(i) # 1, 2, 3\n",
    "\n",
    "# At times you need to cycle through a list, and repeat that cycle endlessly. For example, \n",
    "# you want to you need to play a 10000 cards in a game, and the stack of cards repeats itself.\n",
    "\n",
    "# You can use itertools.cycle() for this. It returns an iterator that cycles through a list endlessly.\n",
    "from itertools import cycle\n",
    "cards = ['A', 'K', 'Q', 'J', '10', '9', '8', '7', '6', '5', '4', '3', '2']\n",
    "for idx, card in enumerate(cycle(cards)):\n",
    "    print(card) # A, K, Q, J, 10, 9, 8, 7, 6, 5, 4, 3, 2, A, K, Q, J, 10, 9, 8, 7, 6, 5, 4, 3, 2, etc.\n",
    "    if idx > 5:\n",
    "        break\n",
    "\n",
    "\n",
    "# Batched() is a handy function for splitting a list into batches of a given size.\n",
    "from itertools import batched # Note: Python 3.12 required!\n",
    "my_list = [1, 2, 3, 4, 5, 6, 7, 8, 9]\n",
    "for batch in batched(my_list, 4):\n",
    "    print(batch) # [1, 2, 3, 4], [5, 6, 7, 8], [9]\n",
    "\n",
    "# Groupby() will give you an iterator that returns consecutive keys and groups from the iterable.\n",
    "from itertools import groupby\n",
    "my_list = [1, 1, 1, 2, 2, 3, 3, 3, 3]\n",
    "for key, group in groupby(my_list):\n",
    "    print(key, list(group)) # 1 [1, 1, 1], 2 [2, 2], 3 [3, 3, 3, 3]\n",
    "\n",
    "# The last function I want to mention is zip_longest(). It is similar to zip(), but it will\n",
    "# fill in a default value for missing values. Normally, zip() will stop when the shortest iterable is exhausted.\n",
    "from itertools import zip_longest\n",
    "keys = ['a', 'b', 'c']\n",
    "values = [1, 2]\n",
    "for key, value in zip_longest(keys, values, fillvalue=0):\n",
    "    print(key, value) # a 1, b 2, c 0\n",
    "\n",
    "# You can find more itertools functions here: https://docs.python.org/3/library/itertools.html\n",
    "# Although I want to only mention built-in packages, the https://pypi.org/project/more-itertools/ package is also very useful."
   ]
  },
  {
   "cell_type": "markdown",
   "metadata": {},
   "source": [
    "### Functools, a very nice module for higher-order functions"
   ]
  },
  {
   "cell_type": "code",
   "execution_count": 19,
   "metadata": {},
   "outputs": [
    {
     "name": "stdout",
     "output_type": "stream",
     "text": [
      "3\n",
      "Calling add\n",
      "3\n",
      "3\n",
      "3\n",
      "15\n"
     ]
    }
   ],
   "source": [
    "# Functions are first class citizens in Python. That means that you can pass them around like any other variable.\n",
    "# The following is therefore perfectly valid:\n",
    "\n",
    "def add(a, b):\n",
    "    return a + b\n",
    "\n",
    "my_var = add\n",
    "print(my_var(1, 2)) # 3\n",
    "\n",
    "# The object `add` is a function, but the name itself is just a variable. You can assign it to another variable. \n",
    "# Calling a function is done by adding parentheses after the variable name. This way, you can pass\n",
    "# functions to other functions. This is very useful when you want to use a function as an argument. \n",
    "\n",
    "# The functool module contains a few functions that are useful when working with functions. When doing AoC, you\n",
    "# will look for an O(1) solution, but sometimes you can't find it. In that case, you might benefit from memoization.\n",
    "\n",
    "# Memoization is a technique where you store the results of a function call, so that you can reuse them later. In Python\n",
    "# you can use the @cache decorator from the functools module for this. Given a set of input parameters, it will \n",
    "# return the cached result if it is available, otherwise it will call the function and store the result.\n",
    "\n",
    "# See the following example:\n",
    "\n",
    "from functools import cache\n",
    "\n",
    "@cache\n",
    "def add(a, b):\n",
    "    print(\"Calling add\")\n",
    "    return a + b\n",
    "\n",
    "for i in range(3):\n",
    "    print(add(1, 2)) # Calling add, 3, 3\n",
    "\n",
    "# The first time we call add(1, 2), the function is called. The second time, the result is returned from the cache.\n",
    "# This is useful when you have a recursive function that you want to speed up. Think day 4 part 2. \n",
    "\n",
    "# You will get bonus points if you are going to use reduce() from the functools module. reduce() is a function that\n",
    "# applies a function of two arguments cumulatively to the items of an iterable, from left to right, so as to reduce\n",
    "# the iterable to a single value. An example copied from the docs is most explanatory:\n",
    "from functools import reduce\n",
    "my_calculation = reduce(lambda x, y: x+y, [1, 2, 3, 4, 5]) # calculates ((((1+2)+3)+4)+5)\n",
    "print(my_calculation) # 15\n",
    "\n"
   ]
  },
  {
   "cell_type": "markdown",
   "metadata": {},
   "source": [
    "### To discuss: Pandas, Numpy..."
   ]
  }
 ],
 "metadata": {
  "kernelspec": {
   "display_name": ".venv",
   "language": "python",
   "name": "python3"
  },
  "language_info": {
   "codemirror_mode": {
    "name": "ipython",
    "version": 3
   },
   "file_extension": ".py",
   "mimetype": "text/x-python",
   "name": "python",
   "nbconvert_exporter": "python",
   "pygments_lexer": "ipython3",
   "version": "3.11.6"
  }
 },
 "nbformat": 4,
 "nbformat_minor": 2
}
